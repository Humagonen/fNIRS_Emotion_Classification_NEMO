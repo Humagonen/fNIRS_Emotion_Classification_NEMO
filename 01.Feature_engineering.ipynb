{
 "cells": [
  {
   "cell_type": "markdown",
   "id": "083cfeee-193b-4ce7-84d6-05d05847ee63",
   "metadata": {},
   "source": [
    "## Imports"
   ]
  },
  {
   "cell_type": "code",
   "execution_count": 81,
   "id": "b631d2fc-c618-4114-9ca5-3e87b493bdec",
   "metadata": {},
   "outputs": [],
   "source": [
    "from pathlib import Path\n",
    "from itertools import compress\n",
    "import re\n",
    "\n",
    "import mne\n",
    "from mne.io import read_raw_snirf\n",
    "from mne.preprocessing.nirs import scalp_coupling_index, beer_lambert_law, temporal_derivative_distribution_repair as tddr\n",
    "from mne import Epochs, events_from_annotations\n",
    "from mne.filter import filter_data\n",
    "\n",
    "import matplotlib\n",
    "import matplotlib.pyplot as plt\n",
    "import pandas as pd\n",
    "import numpy as np\n",
    "\n",
    "# matplotlib.use('Qt5Agg')\n",
    "# %matplotlib qt\n",
    "# %matplotlib inline"
   ]
  },
  {
   "cell_type": "markdown",
   "id": "907a66c8-d22b-43f5-8ca6-5e1bac8f696d",
   "metadata": {},
   "source": [
    "## Load Data"
   ]
  },
  {
   "cell_type": "code",
   "execution_count": 56,
   "id": "c9c06f71-e15a-4e2d-a317-4bda0b3cf3ac",
   "metadata": {},
   "outputs": [
    {
     "name": "stdout",
     "output_type": "stream",
     "text": [
      "Loading C:\\Users\\humag\\Masaüstü\\Research Internship\\fNIRS_NEMO_Data_Preprocessing_and_Analysis\\data\\nemo-bids\\sub-133\\nirs\\sub-133_task-empe_nirs.snirf\n",
      "Reading 0 ... 155979  =      0.000 ...  3119.580 secs...\n",
      "Data loaded successfully!\n"
     ]
    }
   ],
   "source": [
    "# Base path to BIDS dataset\n",
    "data_path = Path(\"data/nemo-bids\")\n",
    "\n",
    "# Pick one subject and task\n",
    "subject = \"sub-133\"\n",
    "task = \"empe\"\n",
    "\n",
    "# Construct the file path\n",
    "snirf_file = data_path / subject / \"nirs\" / f\"{subject}_task-{task}_nirs.snirf\"\n",
    "\n",
    "# Read the SNIRF file\n",
    "raw = read_raw_snirf(snirf_file, preload=True)\n",
    "print(\"Data loaded successfully!\")"
   ]
  },
  {
   "cell_type": "markdown",
   "id": "8dde6cdd-1370-480b-a9a2-1facbf87f15b",
   "metadata": {},
   "source": [
    "## Preprocessing"
   ]
  },
  {
   "cell_type": "code",
   "execution_count": 58,
   "id": "ff445c13-115a-44c2-9b1f-e7af336de1ae",
   "metadata": {},
   "outputs": [
    {
     "name": "stdout",
     "output_type": "stream",
     "text": [
      "Setting channel interpolation method to {'fnirs': 'nearest'}.\n"
     ]
    },
    {
     "name": "stderr",
     "output_type": "stream",
     "text": [
      "C:\\Users\\humag\\AppData\\Local\\Temp\\ipykernel_19560\\3678775108.py:4: RuntimeWarning: No bad channels to interpolate. Doing nothing...\n",
      "  raw.interpolate_bads()    # default method -> 'nearest'    copies nearest channel\n"
     ]
    },
    {
     "name": "stdout",
     "output_type": "stream",
     "text": [
      "Used Annotations descriptions: ['HANV', 'HAPV', 'LANV', 'LAPV']\n"
     ]
    }
   ],
   "source": [
    "# SCI\n",
    "sci = mne.preprocessing.nirs.scalp_coupling_index(raw)\n",
    "raw.info[\"bads\"] = list(compress(raw.ch_names, sci < 0.8))   # mark all channels with a SCI less than 0.8 as bad\n",
    "raw.interpolate_bads()    # default method -> 'nearest'    copies nearest channel\n",
    "\n",
    "# since raw data is already od data I want to change the name to avoid confusion\n",
    "raw_od = raw\n",
    "\n",
    "# tddr\n",
    "raw_od = tddr(raw_od)\n",
    "\n",
    "# beer lambert law - Convert OD to HbO and HbR\n",
    "raw_hb = beer_lambert_law(raw_od, ppf=6.0)\n",
    "\n",
    "# filtering\n",
    "raw_hb = raw_hb.filter(l_freq=0.01, h_freq=0.1,\n",
    "                       l_trans_bandwidth=0.004,\n",
    "                       h_trans_bandwidth=0.01,\n",
    "                       verbose=False)\n",
    "# extract events\n",
    "events, event_dict = mne.events_from_annotations(raw_hb)\n",
    "\n",
    "# Create metadata manually for epochs\n",
    "event_ids = [e[-1] for e in events]\n",
    "labels = [k for id_ in event_ids for k, v in event_dict.items() if v == id_]\n",
    "metadata = pd.DataFrame({'condition': labels, 'subject': ['sub-133'] * len(labels)})\n",
    "\n",
    "# epochs\n",
    "epochs = mne.Epochs(raw_hb, events, event_id=event_dict,\n",
    "                    metadata=metadata,\n",
    "                    tmin=-5.0, tmax=12.0,\n",
    "                    baseline=(None, 0),\n",
    "                    preload=True,\n",
    "                    reject=dict(hbo=80e-6),\n",
    "                    verbose=False)"
   ]
  },
  {
   "cell_type": "code",
   "execution_count": 63,
   "id": "1534dd05-17af-4564-99e3-361682f70b40",
   "metadata": {},
   "outputs": [
    {
     "name": "stdout",
     "output_type": "stream",
     "text": [
      "[[19823     0     3]\n",
      " [21212     0     1]\n",
      " [22438     0     4]\n",
      " [23551     0     2]\n",
      " [24671     0     3]]\n",
      "{'HANV': 1, 'HAPV': 2, 'LANV': 3, 'LAPV': 4}\n"
     ]
    }
   ],
   "source": [
    "print(events[:5])\n",
    "print(event_dict)"
   ]
  },
  {
   "cell_type": "markdown",
   "id": "36e1ff47-8a19-4017-8ea5-6d54fdf07ee2",
   "metadata": {},
   "source": [
    "## Feature engineering"
   ]
  },
  {
   "cell_type": "raw",
   "id": "0d3fb7a7-ad7e-4185-a4df-aa65ca899413",
   "metadata": {},
   "source": [
    "hbo_channels = [\n",
    "    'S1_D1 756', 'S2_D1 756', 'S3_D1 756', 'S1_D2 756', 'S3_D2 756',\n",
    "    'S4_D2 756', 'S2_D3 756', 'S3_D3 756', 'S5_D3 756', 'S3_D4 756',\n",
    "    'S4_D4 756', 'S5_D4 756', 'S6_D5 756', 'S7_D5 756', 'S8_D5 756',\n",
    "    'S6_D6 756', 'S8_D6 756', 'S9_D6 756', 'S7_D7 756', 'S8_D7 756',\n",
    "    'S10_D7 756', 'S8_D8 756', 'S9_D8 756', 'S10_D8 756'\n",
    "]"
   ]
  },
  {
   "cell_type": "code",
   "execution_count": 64,
   "id": "0a26dd98-0fd7-4ea5-a242-9aaa29572eb5",
   "metadata": {},
   "outputs": [
    {
     "name": "stdout",
     "output_type": "stream",
     "text": [
      "(40, 24, 600)\n"
     ]
    }
   ],
   "source": [
    "# Only pick HbO channels\n",
    "hbo_epochs = epochs.copy().pick(picks=\"hbo\")\n",
    "\n",
    "X = hbo_epochs.get_data()[:, :, 250:-1]  # from 0s to 12s\n",
    "\n",
    "# Why 250? → 5s × 50Hz = 250\n",
    "print(X.shape)  # (40, 24, 600)"
   ]
  },
  {
   "cell_type": "code",
   "execution_count": 65,
   "id": "d9d00b98-4213-4870-a510-a84c11adfc5a",
   "metadata": {},
   "outputs": [
    {
     "data": {
      "text/html": [
       "<div>\n",
       "<style scoped>\n",
       "    .dataframe tbody tr th:only-of-type {\n",
       "        vertical-align: middle;\n",
       "    }\n",
       "\n",
       "    .dataframe tbody tr th {\n",
       "        vertical-align: top;\n",
       "    }\n",
       "\n",
       "    .dataframe thead th {\n",
       "        text-align: right;\n",
       "    }\n",
       "</style>\n",
       "<table border=\"1\" class=\"dataframe\">\n",
       "  <thead>\n",
       "    <tr style=\"text-align: right;\">\n",
       "      <th></th>\n",
       "      <th>S1_D1 hbo_t1</th>\n",
       "      <th>S1_D1 hbo_t2</th>\n",
       "      <th>S1_D1 hbo_t3</th>\n",
       "      <th>S1_D1 hbo_t4</th>\n",
       "      <th>S1_D1 hbo_t5</th>\n",
       "      <th>S1_D1 hbo_t6</th>\n",
       "      <th>S1_D1 hbo_t7</th>\n",
       "      <th>S1_D1 hbo_t8</th>\n",
       "      <th>S1_D1 hbo_t9</th>\n",
       "      <th>S1_D1 hbo_t10</th>\n",
       "      <th>...</th>\n",
       "      <th>S10_D8 hbo_t591</th>\n",
       "      <th>S10_D8 hbo_t592</th>\n",
       "      <th>S10_D8 hbo_t593</th>\n",
       "      <th>S10_D8 hbo_t594</th>\n",
       "      <th>S10_D8 hbo_t595</th>\n",
       "      <th>S10_D8 hbo_t596</th>\n",
       "      <th>S10_D8 hbo_t597</th>\n",
       "      <th>S10_D8 hbo_t598</th>\n",
       "      <th>S10_D8 hbo_t599</th>\n",
       "      <th>S10_D8 hbo_t600</th>\n",
       "    </tr>\n",
       "  </thead>\n",
       "  <tbody>\n",
       "    <tr>\n",
       "      <th>0</th>\n",
       "      <td>-1.411280e-07</td>\n",
       "      <td>-1.419696e-07</td>\n",
       "      <td>-1.428005e-07</td>\n",
       "      <td>-1.436206e-07</td>\n",
       "      <td>-1.444298e-07</td>\n",
       "      <td>-1.452279e-07</td>\n",
       "      <td>-1.460150e-07</td>\n",
       "      <td>-1.467908e-07</td>\n",
       "      <td>-1.475555e-07</td>\n",
       "      <td>-1.483089e-07</td>\n",
       "      <td>...</td>\n",
       "      <td>1.249216e-07</td>\n",
       "      <td>1.257428e-07</td>\n",
       "      <td>1.265623e-07</td>\n",
       "      <td>1.273802e-07</td>\n",
       "      <td>1.281964e-07</td>\n",
       "      <td>1.290108e-07</td>\n",
       "      <td>1.298233e-07</td>\n",
       "      <td>1.306339e-07</td>\n",
       "      <td>1.314425e-07</td>\n",
       "      <td>1.322490e-07</td>\n",
       "    </tr>\n",
       "    <tr>\n",
       "      <th>1</th>\n",
       "      <td>-9.442113e-09</td>\n",
       "      <td>-9.975142e-09</td>\n",
       "      <td>-1.051330e-08</td>\n",
       "      <td>-1.105656e-08</td>\n",
       "      <td>-1.160487e-08</td>\n",
       "      <td>-1.215823e-08</td>\n",
       "      <td>-1.271658e-08</td>\n",
       "      <td>-1.327993e-08</td>\n",
       "      <td>-1.384820e-08</td>\n",
       "      <td>-1.442136e-08</td>\n",
       "      <td>...</td>\n",
       "      <td>-1.028862e-07</td>\n",
       "      <td>-1.026222e-07</td>\n",
       "      <td>-1.023605e-07</td>\n",
       "      <td>-1.021010e-07</td>\n",
       "      <td>-1.018437e-07</td>\n",
       "      <td>-1.015887e-07</td>\n",
       "      <td>-1.013360e-07</td>\n",
       "      <td>-1.010856e-07</td>\n",
       "      <td>-1.008376e-07</td>\n",
       "      <td>-1.005919e-07</td>\n",
       "    </tr>\n",
       "  </tbody>\n",
       "</table>\n",
       "<p>2 rows × 14400 columns</p>\n",
       "</div>"
      ],
      "text/plain": [
       "   S1_D1 hbo_t1  S1_D1 hbo_t2  S1_D1 hbo_t3  S1_D1 hbo_t4  S1_D1 hbo_t5  \\\n",
       "0 -1.411280e-07 -1.419696e-07 -1.428005e-07 -1.436206e-07 -1.444298e-07   \n",
       "1 -9.442113e-09 -9.975142e-09 -1.051330e-08 -1.105656e-08 -1.160487e-08   \n",
       "\n",
       "   S1_D1 hbo_t6  S1_D1 hbo_t7  S1_D1 hbo_t8  S1_D1 hbo_t9  S1_D1 hbo_t10  ...  \\\n",
       "0 -1.452279e-07 -1.460150e-07 -1.467908e-07 -1.475555e-07  -1.483089e-07  ...   \n",
       "1 -1.215823e-08 -1.271658e-08 -1.327993e-08 -1.384820e-08  -1.442136e-08  ...   \n",
       "\n",
       "   S10_D8 hbo_t591  S10_D8 hbo_t592  S10_D8 hbo_t593  S10_D8 hbo_t594  \\\n",
       "0     1.249216e-07     1.257428e-07     1.265623e-07     1.273802e-07   \n",
       "1    -1.028862e-07    -1.026222e-07    -1.023605e-07    -1.021010e-07   \n",
       "\n",
       "   S10_D8 hbo_t595  S10_D8 hbo_t596  S10_D8 hbo_t597  S10_D8 hbo_t598  \\\n",
       "0     1.281964e-07     1.290108e-07     1.298233e-07     1.306339e-07   \n",
       "1    -1.018437e-07    -1.015887e-07    -1.013360e-07    -1.010856e-07   \n",
       "\n",
       "   S10_D8 hbo_t599  S10_D8 hbo_t600  \n",
       "0     1.314425e-07     1.322490e-07  \n",
       "1    -1.008376e-07    -1.005919e-07  \n",
       "\n",
       "[2 rows x 14400 columns]"
      ]
     },
     "execution_count": 65,
     "metadata": {},
     "output_type": "execute_result"
    }
   ],
   "source": [
    "ch_names = hbo_epochs.ch_names  # ['S5_D3 hbo', ..., 'S10_D8 hbo']\n",
    "n_trials, n_channels, n_times = X.shape\n",
    "\n",
    "# Flatten time series for each trial\n",
    "X_flat = X.reshape(n_trials, n_channels * n_times)\n",
    "\n",
    "# Create column names like: 'S5_D3 hbo_t1', ..., 'S5_D3 hbo_t600'\n",
    "columns = [f'{ch}_t{t+1}' for ch in ch_names for t in range(n_times)]\n",
    "\n",
    "# Make dataframe (each channels 600 HBO values)\n",
    "df = pd.DataFrame(X_flat, columns=columns)\n",
    "df.head(2)"
   ]
  },
  {
   "cell_type": "code",
   "execution_count": 66,
   "id": "7ccdcdd2-ae2d-4d79-a419-e524c33d5ce2",
   "metadata": {},
   "outputs": [],
   "source": [
    "# Add labels from metadata\n",
    "df['label'] = hbo_epochs.metadata['condition'].map(event_dict)\n",
    "\n",
    "# Optional: add subject ID\n",
    "df['subject'] = hbo_epochs.metadata['subject']"
   ]
  },
  {
   "cell_type": "code",
   "execution_count": 67,
   "id": "88f518d0-a251-464b-9aba-c497788f0519",
   "metadata": {},
   "outputs": [
    {
     "data": {
      "text/html": [
       "<div>\n",
       "<style scoped>\n",
       "    .dataframe tbody tr th:only-of-type {\n",
       "        vertical-align: middle;\n",
       "    }\n",
       "\n",
       "    .dataframe tbody tr th {\n",
       "        vertical-align: top;\n",
       "    }\n",
       "\n",
       "    .dataframe thead th {\n",
       "        text-align: right;\n",
       "    }\n",
       "</style>\n",
       "<table border=\"1\" class=\"dataframe\">\n",
       "  <thead>\n",
       "    <tr style=\"text-align: right;\">\n",
       "      <th></th>\n",
       "      <th>S1_D1 hbo_t1</th>\n",
       "      <th>S1_D1 hbo_t2</th>\n",
       "      <th>S1_D1 hbo_t3</th>\n",
       "      <th>S1_D1 hbo_t4</th>\n",
       "      <th>S1_D1 hbo_t5</th>\n",
       "      <th>S1_D1 hbo_t6</th>\n",
       "      <th>S1_D1 hbo_t7</th>\n",
       "      <th>S1_D1 hbo_t8</th>\n",
       "      <th>S1_D1 hbo_t9</th>\n",
       "      <th>S1_D1 hbo_t10</th>\n",
       "      <th>...</th>\n",
       "      <th>S10_D8 hbo_t593</th>\n",
       "      <th>S10_D8 hbo_t594</th>\n",
       "      <th>S10_D8 hbo_t595</th>\n",
       "      <th>S10_D8 hbo_t596</th>\n",
       "      <th>S10_D8 hbo_t597</th>\n",
       "      <th>S10_D8 hbo_t598</th>\n",
       "      <th>S10_D8 hbo_t599</th>\n",
       "      <th>S10_D8 hbo_t600</th>\n",
       "      <th>label</th>\n",
       "      <th>subject</th>\n",
       "    </tr>\n",
       "  </thead>\n",
       "  <tbody>\n",
       "    <tr>\n",
       "      <th>0</th>\n",
       "      <td>-1.411280e-07</td>\n",
       "      <td>-1.419696e-07</td>\n",
       "      <td>-1.428005e-07</td>\n",
       "      <td>-1.436206e-07</td>\n",
       "      <td>-1.444298e-07</td>\n",
       "      <td>-1.452279e-07</td>\n",
       "      <td>-1.460150e-07</td>\n",
       "      <td>-1.467908e-07</td>\n",
       "      <td>-1.475555e-07</td>\n",
       "      <td>-1.483089e-07</td>\n",
       "      <td>...</td>\n",
       "      <td>1.265623e-07</td>\n",
       "      <td>1.273802e-07</td>\n",
       "      <td>1.281964e-07</td>\n",
       "      <td>1.290108e-07</td>\n",
       "      <td>1.298233e-07</td>\n",
       "      <td>1.306339e-07</td>\n",
       "      <td>1.314425e-07</td>\n",
       "      <td>1.322490e-07</td>\n",
       "      <td>3</td>\n",
       "      <td>sub-133</td>\n",
       "    </tr>\n",
       "    <tr>\n",
       "      <th>1</th>\n",
       "      <td>-9.442113e-09</td>\n",
       "      <td>-9.975142e-09</td>\n",
       "      <td>-1.051330e-08</td>\n",
       "      <td>-1.105656e-08</td>\n",
       "      <td>-1.160487e-08</td>\n",
       "      <td>-1.215823e-08</td>\n",
       "      <td>-1.271658e-08</td>\n",
       "      <td>-1.327993e-08</td>\n",
       "      <td>-1.384820e-08</td>\n",
       "      <td>-1.442136e-08</td>\n",
       "      <td>...</td>\n",
       "      <td>-1.023605e-07</td>\n",
       "      <td>-1.021010e-07</td>\n",
       "      <td>-1.018437e-07</td>\n",
       "      <td>-1.015887e-07</td>\n",
       "      <td>-1.013360e-07</td>\n",
       "      <td>-1.010856e-07</td>\n",
       "      <td>-1.008376e-07</td>\n",
       "      <td>-1.005919e-07</td>\n",
       "      <td>1</td>\n",
       "      <td>sub-133</td>\n",
       "    </tr>\n",
       "    <tr>\n",
       "      <th>2</th>\n",
       "      <td>4.832059e-08</td>\n",
       "      <td>4.847087e-08</td>\n",
       "      <td>4.861552e-08</td>\n",
       "      <td>4.875452e-08</td>\n",
       "      <td>4.888786e-08</td>\n",
       "      <td>4.901548e-08</td>\n",
       "      <td>4.913743e-08</td>\n",
       "      <td>4.925366e-08</td>\n",
       "      <td>4.936418e-08</td>\n",
       "      <td>4.946894e-08</td>\n",
       "      <td>...</td>\n",
       "      <td>-1.018578e-07</td>\n",
       "      <td>-1.022616e-07</td>\n",
       "      <td>-1.026671e-07</td>\n",
       "      <td>-1.030743e-07</td>\n",
       "      <td>-1.034831e-07</td>\n",
       "      <td>-1.038935e-07</td>\n",
       "      <td>-1.043054e-07</td>\n",
       "      <td>-1.047188e-07</td>\n",
       "      <td>4</td>\n",
       "      <td>sub-133</td>\n",
       "    </tr>\n",
       "    <tr>\n",
       "      <th>3</th>\n",
       "      <td>-5.593837e-09</td>\n",
       "      <td>-6.218480e-09</td>\n",
       "      <td>-6.848186e-09</td>\n",
       "      <td>-7.482923e-09</td>\n",
       "      <td>-8.122568e-09</td>\n",
       "      <td>-8.767094e-09</td>\n",
       "      <td>-9.416401e-09</td>\n",
       "      <td>-1.007040e-08</td>\n",
       "      <td>-1.072901e-08</td>\n",
       "      <td>-1.139213e-08</td>\n",
       "      <td>...</td>\n",
       "      <td>-3.075147e-08</td>\n",
       "      <td>-3.080947e-08</td>\n",
       "      <td>-3.086588e-08</td>\n",
       "      <td>-3.092065e-08</td>\n",
       "      <td>-3.097374e-08</td>\n",
       "      <td>-3.102514e-08</td>\n",
       "      <td>-3.107478e-08</td>\n",
       "      <td>-3.112263e-08</td>\n",
       "      <td>2</td>\n",
       "      <td>sub-133</td>\n",
       "    </tr>\n",
       "    <tr>\n",
       "      <th>4</th>\n",
       "      <td>-8.244687e-08</td>\n",
       "      <td>-8.327193e-08</td>\n",
       "      <td>-8.409038e-08</td>\n",
       "      <td>-8.490210e-08</td>\n",
       "      <td>-8.570694e-08</td>\n",
       "      <td>-8.650473e-08</td>\n",
       "      <td>-8.729536e-08</td>\n",
       "      <td>-8.807867e-08</td>\n",
       "      <td>-8.885453e-08</td>\n",
       "      <td>-8.962280e-08</td>\n",
       "      <td>...</td>\n",
       "      <td>1.605167e-07</td>\n",
       "      <td>1.602209e-07</td>\n",
       "      <td>1.599317e-07</td>\n",
       "      <td>1.596489e-07</td>\n",
       "      <td>1.593726e-07</td>\n",
       "      <td>1.591029e-07</td>\n",
       "      <td>1.588398e-07</td>\n",
       "      <td>1.585834e-07</td>\n",
       "      <td>3</td>\n",
       "      <td>sub-133</td>\n",
       "    </tr>\n",
       "  </tbody>\n",
       "</table>\n",
       "<p>5 rows × 14402 columns</p>\n",
       "</div>"
      ],
      "text/plain": [
       "   S1_D1 hbo_t1  S1_D1 hbo_t2  S1_D1 hbo_t3  S1_D1 hbo_t4  S1_D1 hbo_t5  \\\n",
       "0 -1.411280e-07 -1.419696e-07 -1.428005e-07 -1.436206e-07 -1.444298e-07   \n",
       "1 -9.442113e-09 -9.975142e-09 -1.051330e-08 -1.105656e-08 -1.160487e-08   \n",
       "2  4.832059e-08  4.847087e-08  4.861552e-08  4.875452e-08  4.888786e-08   \n",
       "3 -5.593837e-09 -6.218480e-09 -6.848186e-09 -7.482923e-09 -8.122568e-09   \n",
       "4 -8.244687e-08 -8.327193e-08 -8.409038e-08 -8.490210e-08 -8.570694e-08   \n",
       "\n",
       "   S1_D1 hbo_t6  S1_D1 hbo_t7  S1_D1 hbo_t8  S1_D1 hbo_t9  S1_D1 hbo_t10  ...  \\\n",
       "0 -1.452279e-07 -1.460150e-07 -1.467908e-07 -1.475555e-07  -1.483089e-07  ...   \n",
       "1 -1.215823e-08 -1.271658e-08 -1.327993e-08 -1.384820e-08  -1.442136e-08  ...   \n",
       "2  4.901548e-08  4.913743e-08  4.925366e-08  4.936418e-08   4.946894e-08  ...   \n",
       "3 -8.767094e-09 -9.416401e-09 -1.007040e-08 -1.072901e-08  -1.139213e-08  ...   \n",
       "4 -8.650473e-08 -8.729536e-08 -8.807867e-08 -8.885453e-08  -8.962280e-08  ...   \n",
       "\n",
       "   S10_D8 hbo_t593  S10_D8 hbo_t594  S10_D8 hbo_t595  S10_D8 hbo_t596  \\\n",
       "0     1.265623e-07     1.273802e-07     1.281964e-07     1.290108e-07   \n",
       "1    -1.023605e-07    -1.021010e-07    -1.018437e-07    -1.015887e-07   \n",
       "2    -1.018578e-07    -1.022616e-07    -1.026671e-07    -1.030743e-07   \n",
       "3    -3.075147e-08    -3.080947e-08    -3.086588e-08    -3.092065e-08   \n",
       "4     1.605167e-07     1.602209e-07     1.599317e-07     1.596489e-07   \n",
       "\n",
       "   S10_D8 hbo_t597  S10_D8 hbo_t598  S10_D8 hbo_t599  S10_D8 hbo_t600  label  \\\n",
       "0     1.298233e-07     1.306339e-07     1.314425e-07     1.322490e-07      3   \n",
       "1    -1.013360e-07    -1.010856e-07    -1.008376e-07    -1.005919e-07      1   \n",
       "2    -1.034831e-07    -1.038935e-07    -1.043054e-07    -1.047188e-07      4   \n",
       "3    -3.097374e-08    -3.102514e-08    -3.107478e-08    -3.112263e-08      2   \n",
       "4     1.593726e-07     1.591029e-07     1.588398e-07     1.585834e-07      3   \n",
       "\n",
       "   subject  \n",
       "0  sub-133  \n",
       "1  sub-133  \n",
       "2  sub-133  \n",
       "3  sub-133  \n",
       "4  sub-133  \n",
       "\n",
       "[5 rows x 14402 columns]"
      ]
     },
     "execution_count": 67,
     "metadata": {},
     "output_type": "execute_result"
    }
   ],
   "source": [
    "df.head()"
   ]
  },
  {
   "cell_type": "code",
   "execution_count": 68,
   "id": "59d339d1-8655-4398-9573-314ff6a2dda4",
   "metadata": {},
   "outputs": [
    {
     "data": {
      "text/plain": [
       "(40, 14402)"
      ]
     },
     "execution_count": 68,
     "metadata": {},
     "output_type": "execute_result"
    }
   ],
   "source": [
    "df.shape"
   ]
  },
  {
   "cell_type": "markdown",
   "id": "af515cd4-4bac-4f67-9256-a027361dee69",
   "metadata": {},
   "source": [
    "# Steps for all subjects"
   ]
  },
  {
   "cell_type": "code",
   "execution_count": 90,
   "id": "cbb675f8-5ffa-4feb-8ed1-6bf68d68d9ba",
   "metadata": {
    "scrolled": true
   },
   "outputs": [
    {
     "name": "stdout",
     "output_type": "stream",
     "text": [
      "Found 31 subjects.\n",
      "Processing sub-101...\n",
      "Setting channel interpolation method to {'fnirs': 'nearest'}.\n",
      "Interpolating bad channels.\n",
      "    Automatic origin fit: head of radius 168.7 mm\n"
     ]
    },
    {
     "name": "stderr",
     "output_type": "stream",
     "text": [
      "C:\\Users\\humag\\AppData\\Local\\Temp\\ipykernel_19560\\109121929.py:21: RuntimeWarning: Estimated head radius (16.9 cm) is above the 99th percentile for adult head size.\n",
      "  raw.interpolate_bads()  # 'nearest'\n",
      "C:\\Users\\humag\\AppData\\Local\\Temp\\ipykernel_19560\\109121929.py:21: RuntimeWarning: (X, Y) fit (0.0, 30.1) more than 20 mm from head frame origin\n",
      "  raw.interpolate_bads()  # 'nearest'\n"
     ]
    },
    {
     "name": "stdout",
     "output_type": "stream",
     "text": [
      "Used Annotations descriptions: ['HANV', 'HAPV', 'LANV', 'LAPV']\n",
      "Processing sub-105...\n",
      "Setting channel interpolation method to {'fnirs': 'nearest'}.\n",
      "Interpolating bad channels.\n",
      "    Automatic origin fit: head of radius 168.7 mm\n"
     ]
    },
    {
     "name": "stderr",
     "output_type": "stream",
     "text": [
      "C:\\Users\\humag\\AppData\\Local\\Temp\\ipykernel_19560\\109121929.py:21: RuntimeWarning: Estimated head radius (16.9 cm) is above the 99th percentile for adult head size.\n",
      "  raw.interpolate_bads()  # 'nearest'\n",
      "C:\\Users\\humag\\AppData\\Local\\Temp\\ipykernel_19560\\109121929.py:21: RuntimeWarning: (X, Y) fit (0.0, 30.1) more than 20 mm from head frame origin\n",
      "  raw.interpolate_bads()  # 'nearest'\n"
     ]
    },
    {
     "name": "stdout",
     "output_type": "stream",
     "text": [
      "Used Annotations descriptions: ['HANV', 'HAPV', 'LANV', 'LAPV']\n",
      "Processing sub-107...\n",
      "Setting channel interpolation method to {'fnirs': 'nearest'}.\n",
      "Interpolating bad channels.\n",
      "    Automatic origin fit: head of radius 168.7 mm\n"
     ]
    },
    {
     "name": "stderr",
     "output_type": "stream",
     "text": [
      "C:\\Users\\humag\\AppData\\Local\\Temp\\ipykernel_19560\\109121929.py:21: RuntimeWarning: Estimated head radius (16.9 cm) is above the 99th percentile for adult head size.\n",
      "  raw.interpolate_bads()  # 'nearest'\n",
      "C:\\Users\\humag\\AppData\\Local\\Temp\\ipykernel_19560\\109121929.py:21: RuntimeWarning: (X, Y) fit (0.0, 30.1) more than 20 mm from head frame origin\n",
      "  raw.interpolate_bads()  # 'nearest'\n"
     ]
    },
    {
     "name": "stdout",
     "output_type": "stream",
     "text": [
      "Used Annotations descriptions: ['HANV', 'HAPV', 'LANV', 'LAPV']\n",
      "Processing sub-108...\n",
      "Setting channel interpolation method to {'fnirs': 'nearest'}.\n",
      "Interpolating bad channels.\n",
      "    Automatic origin fit: head of radius 168.7 mm\n"
     ]
    },
    {
     "name": "stderr",
     "output_type": "stream",
     "text": [
      "C:\\Users\\humag\\AppData\\Local\\Temp\\ipykernel_19560\\109121929.py:21: RuntimeWarning: Estimated head radius (16.9 cm) is above the 99th percentile for adult head size.\n",
      "  raw.interpolate_bads()  # 'nearest'\n",
      "C:\\Users\\humag\\AppData\\Local\\Temp\\ipykernel_19560\\109121929.py:21: RuntimeWarning: (X, Y) fit (0.0, 30.1) more than 20 mm from head frame origin\n",
      "  raw.interpolate_bads()  # 'nearest'\n"
     ]
    },
    {
     "name": "stdout",
     "output_type": "stream",
     "text": [
      "Used Annotations descriptions: ['HANV', 'HAPV', 'LANV', 'LAPV']\n",
      "Processing sub-109...\n",
      "Setting channel interpolation method to {'fnirs': 'nearest'}.\n",
      "Interpolating bad channels.\n",
      "    Automatic origin fit: head of radius 168.7 mm\n"
     ]
    },
    {
     "name": "stderr",
     "output_type": "stream",
     "text": [
      "C:\\Users\\humag\\AppData\\Local\\Temp\\ipykernel_19560\\109121929.py:21: RuntimeWarning: Estimated head radius (16.9 cm) is above the 99th percentile for adult head size.\n",
      "  raw.interpolate_bads()  # 'nearest'\n",
      "C:\\Users\\humag\\AppData\\Local\\Temp\\ipykernel_19560\\109121929.py:21: RuntimeWarning: (X, Y) fit (0.0, 30.1) more than 20 mm from head frame origin\n",
      "  raw.interpolate_bads()  # 'nearest'\n"
     ]
    },
    {
     "name": "stdout",
     "output_type": "stream",
     "text": [
      "Used Annotations descriptions: ['HANV', 'HAPV', 'LANV', 'LAPV']\n",
      "Processing sub-112...\n",
      "Setting channel interpolation method to {'fnirs': 'nearest'}.\n",
      "Interpolating bad channels.\n",
      "    Automatic origin fit: head of radius 168.7 mm\n"
     ]
    },
    {
     "name": "stderr",
     "output_type": "stream",
     "text": [
      "C:\\Users\\humag\\AppData\\Local\\Temp\\ipykernel_19560\\109121929.py:21: RuntimeWarning: Estimated head radius (16.9 cm) is above the 99th percentile for adult head size.\n",
      "  raw.interpolate_bads()  # 'nearest'\n",
      "C:\\Users\\humag\\AppData\\Local\\Temp\\ipykernel_19560\\109121929.py:21: RuntimeWarning: (X, Y) fit (0.0, 30.1) more than 20 mm from head frame origin\n",
      "  raw.interpolate_bads()  # 'nearest'\n"
     ]
    },
    {
     "name": "stdout",
     "output_type": "stream",
     "text": [
      "Used Annotations descriptions: ['HANV', 'HAPV', 'LANV', 'LAPV']\n",
      "Processing sub-113...\n",
      "Setting channel interpolation method to {'fnirs': 'nearest'}.\n",
      "Interpolating bad channels.\n",
      "    Automatic origin fit: head of radius 168.7 mm\n"
     ]
    },
    {
     "name": "stderr",
     "output_type": "stream",
     "text": [
      "C:\\Users\\humag\\AppData\\Local\\Temp\\ipykernel_19560\\109121929.py:21: RuntimeWarning: Estimated head radius (16.9 cm) is above the 99th percentile for adult head size.\n",
      "  raw.interpolate_bads()  # 'nearest'\n",
      "C:\\Users\\humag\\AppData\\Local\\Temp\\ipykernel_19560\\109121929.py:21: RuntimeWarning: (X, Y) fit (0.0, 30.1) more than 20 mm from head frame origin\n",
      "  raw.interpolate_bads()  # 'nearest'\n"
     ]
    },
    {
     "name": "stdout",
     "output_type": "stream",
     "text": [
      "Used Annotations descriptions: ['HANV', 'HAPV', 'LANV', 'LAPV']\n",
      "Processing sub-119...\n",
      "Setting channel interpolation method to {'fnirs': 'nearest'}.\n"
     ]
    },
    {
     "name": "stderr",
     "output_type": "stream",
     "text": [
      "C:\\Users\\humag\\AppData\\Local\\Temp\\ipykernel_19560\\109121929.py:21: RuntimeWarning: No bad channels to interpolate. Doing nothing...\n",
      "  raw.interpolate_bads()  # 'nearest'\n"
     ]
    },
    {
     "name": "stdout",
     "output_type": "stream",
     "text": [
      "Used Annotations descriptions: ['HANV', 'HAPV', 'LANV', 'LAPV']\n",
      "Processing sub-120...\n",
      "Setting channel interpolation method to {'fnirs': 'nearest'}.\n",
      "Interpolating bad channels.\n",
      "    Automatic origin fit: head of radius 168.7 mm\n"
     ]
    },
    {
     "name": "stderr",
     "output_type": "stream",
     "text": [
      "C:\\Users\\humag\\AppData\\Local\\Temp\\ipykernel_19560\\109121929.py:21: RuntimeWarning: Estimated head radius (16.9 cm) is above the 99th percentile for adult head size.\n",
      "  raw.interpolate_bads()  # 'nearest'\n",
      "C:\\Users\\humag\\AppData\\Local\\Temp\\ipykernel_19560\\109121929.py:21: RuntimeWarning: (X, Y) fit (0.0, 30.1) more than 20 mm from head frame origin\n",
      "  raw.interpolate_bads()  # 'nearest'\n"
     ]
    },
    {
     "name": "stdout",
     "output_type": "stream",
     "text": [
      "Used Annotations descriptions: ['HANV', 'HAPV', 'LANV', 'LAPV']\n",
      "Processing sub-121...\n",
      "Setting channel interpolation method to {'fnirs': 'nearest'}.\n",
      "Interpolating bad channels.\n",
      "    Automatic origin fit: head of radius 168.7 mm\n"
     ]
    },
    {
     "name": "stderr",
     "output_type": "stream",
     "text": [
      "C:\\Users\\humag\\AppData\\Local\\Temp\\ipykernel_19560\\109121929.py:21: RuntimeWarning: Estimated head radius (16.9 cm) is above the 99th percentile for adult head size.\n",
      "  raw.interpolate_bads()  # 'nearest'\n",
      "C:\\Users\\humag\\AppData\\Local\\Temp\\ipykernel_19560\\109121929.py:21: RuntimeWarning: (X, Y) fit (0.0, 30.1) more than 20 mm from head frame origin\n",
      "  raw.interpolate_bads()  # 'nearest'\n"
     ]
    },
    {
     "name": "stdout",
     "output_type": "stream",
     "text": [
      "Used Annotations descriptions: ['HANV', 'HAPV', 'LANV', 'LAPV']\n",
      "Processing sub-123...\n",
      "Setting channel interpolation method to {'fnirs': 'nearest'}.\n",
      "Interpolating bad channels.\n",
      "    Automatic origin fit: head of radius 168.7 mm\n"
     ]
    },
    {
     "name": "stderr",
     "output_type": "stream",
     "text": [
      "C:\\Users\\humag\\AppData\\Local\\Temp\\ipykernel_19560\\109121929.py:21: RuntimeWarning: Estimated head radius (16.9 cm) is above the 99th percentile for adult head size.\n",
      "  raw.interpolate_bads()  # 'nearest'\n",
      "C:\\Users\\humag\\AppData\\Local\\Temp\\ipykernel_19560\\109121929.py:21: RuntimeWarning: (X, Y) fit (0.0, 30.1) more than 20 mm from head frame origin\n",
      "  raw.interpolate_bads()  # 'nearest'\n"
     ]
    },
    {
     "name": "stdout",
     "output_type": "stream",
     "text": [
      "Used Annotations descriptions: ['HANV', 'HAPV', 'LANV', 'LAPV']\n",
      "Processing sub-124...\n",
      "Setting channel interpolation method to {'fnirs': 'nearest'}.\n",
      "Interpolating bad channels.\n",
      "    Automatic origin fit: head of radius 168.7 mm\n"
     ]
    },
    {
     "name": "stderr",
     "output_type": "stream",
     "text": [
      "C:\\Users\\humag\\AppData\\Local\\Temp\\ipykernel_19560\\109121929.py:21: RuntimeWarning: Estimated head radius (16.9 cm) is above the 99th percentile for adult head size.\n",
      "  raw.interpolate_bads()  # 'nearest'\n",
      "C:\\Users\\humag\\AppData\\Local\\Temp\\ipykernel_19560\\109121929.py:21: RuntimeWarning: (X, Y) fit (0.0, 30.1) more than 20 mm from head frame origin\n",
      "  raw.interpolate_bads()  # 'nearest'\n"
     ]
    },
    {
     "name": "stdout",
     "output_type": "stream",
     "text": [
      "Used Annotations descriptions: ['HANV', 'HAPV', 'LANV', 'LAPV']\n",
      "Processing sub-125...\n",
      "Setting channel interpolation method to {'fnirs': 'nearest'}.\n",
      "Interpolating bad channels.\n",
      "    Automatic origin fit: head of radius 168.7 mm\n"
     ]
    },
    {
     "name": "stderr",
     "output_type": "stream",
     "text": [
      "C:\\Users\\humag\\AppData\\Local\\Temp\\ipykernel_19560\\109121929.py:21: RuntimeWarning: Estimated head radius (16.9 cm) is above the 99th percentile for adult head size.\n",
      "  raw.interpolate_bads()  # 'nearest'\n",
      "C:\\Users\\humag\\AppData\\Local\\Temp\\ipykernel_19560\\109121929.py:21: RuntimeWarning: (X, Y) fit (0.0, 30.1) more than 20 mm from head frame origin\n",
      "  raw.interpolate_bads()  # 'nearest'\n"
     ]
    },
    {
     "name": "stdout",
     "output_type": "stream",
     "text": [
      "Used Annotations descriptions: ['HANV', 'HAPV', 'LANV', 'LAPV']\n",
      "Processing sub-126...\n",
      "Setting channel interpolation method to {'fnirs': 'nearest'}.\n",
      "Interpolating bad channels.\n",
      "    Automatic origin fit: head of radius 168.7 mm\n"
     ]
    },
    {
     "name": "stderr",
     "output_type": "stream",
     "text": [
      "C:\\Users\\humag\\AppData\\Local\\Temp\\ipykernel_19560\\109121929.py:21: RuntimeWarning: Estimated head radius (16.9 cm) is above the 99th percentile for adult head size.\n",
      "  raw.interpolate_bads()  # 'nearest'\n",
      "C:\\Users\\humag\\AppData\\Local\\Temp\\ipykernel_19560\\109121929.py:21: RuntimeWarning: (X, Y) fit (0.0, 30.1) more than 20 mm from head frame origin\n",
      "  raw.interpolate_bads()  # 'nearest'\n"
     ]
    },
    {
     "name": "stdout",
     "output_type": "stream",
     "text": [
      "Used Annotations descriptions: ['HANV', 'HAPV', 'LANV', 'LAPV']\n",
      "Processing sub-127...\n",
      "Setting channel interpolation method to {'fnirs': 'nearest'}.\n",
      "Interpolating bad channels.\n",
      "    Automatic origin fit: head of radius 168.7 mm\n"
     ]
    },
    {
     "name": "stderr",
     "output_type": "stream",
     "text": [
      "C:\\Users\\humag\\AppData\\Local\\Temp\\ipykernel_19560\\109121929.py:21: RuntimeWarning: Estimated head radius (16.9 cm) is above the 99th percentile for adult head size.\n",
      "  raw.interpolate_bads()  # 'nearest'\n",
      "C:\\Users\\humag\\AppData\\Local\\Temp\\ipykernel_19560\\109121929.py:21: RuntimeWarning: (X, Y) fit (0.0, 30.1) more than 20 mm from head frame origin\n",
      "  raw.interpolate_bads()  # 'nearest'\n"
     ]
    },
    {
     "name": "stdout",
     "output_type": "stream",
     "text": [
      "Used Annotations descriptions: ['HANV', 'HAPV', 'LANV', 'LAPV']\n",
      "Processing sub-129...\n",
      "Setting channel interpolation method to {'fnirs': 'nearest'}.\n",
      "Interpolating bad channels.\n",
      "    Automatic origin fit: head of radius 168.7 mm\n"
     ]
    },
    {
     "name": "stderr",
     "output_type": "stream",
     "text": [
      "C:\\Users\\humag\\AppData\\Local\\Temp\\ipykernel_19560\\109121929.py:21: RuntimeWarning: Estimated head radius (16.9 cm) is above the 99th percentile for adult head size.\n",
      "  raw.interpolate_bads()  # 'nearest'\n",
      "C:\\Users\\humag\\AppData\\Local\\Temp\\ipykernel_19560\\109121929.py:21: RuntimeWarning: (X, Y) fit (0.0, 30.1) more than 20 mm from head frame origin\n",
      "  raw.interpolate_bads()  # 'nearest'\n"
     ]
    },
    {
     "name": "stdout",
     "output_type": "stream",
     "text": [
      "Used Annotations descriptions: ['HANV', 'HAPV', 'LANV', 'LAPV']\n",
      "Processing sub-130...\n",
      "Setting channel interpolation method to {'fnirs': 'nearest'}.\n",
      "Interpolating bad channels.\n",
      "    Automatic origin fit: head of radius 168.7 mm\n"
     ]
    },
    {
     "name": "stderr",
     "output_type": "stream",
     "text": [
      "C:\\Users\\humag\\AppData\\Local\\Temp\\ipykernel_19560\\109121929.py:21: RuntimeWarning: Estimated head radius (16.9 cm) is above the 99th percentile for adult head size.\n",
      "  raw.interpolate_bads()  # 'nearest'\n",
      "C:\\Users\\humag\\AppData\\Local\\Temp\\ipykernel_19560\\109121929.py:21: RuntimeWarning: (X, Y) fit (0.0, 30.1) more than 20 mm from head frame origin\n",
      "  raw.interpolate_bads()  # 'nearest'\n"
     ]
    },
    {
     "name": "stdout",
     "output_type": "stream",
     "text": [
      "Used Annotations descriptions: ['HANV', 'HAPV', 'LANV', 'LAPV']\n",
      "Processing sub-131...\n",
      "Setting channel interpolation method to {'fnirs': 'nearest'}.\n",
      "Interpolating bad channels.\n",
      "    Automatic origin fit: head of radius 168.7 mm\n"
     ]
    },
    {
     "name": "stderr",
     "output_type": "stream",
     "text": [
      "C:\\Users\\humag\\AppData\\Local\\Temp\\ipykernel_19560\\109121929.py:21: RuntimeWarning: Estimated head radius (16.9 cm) is above the 99th percentile for adult head size.\n",
      "  raw.interpolate_bads()  # 'nearest'\n",
      "C:\\Users\\humag\\AppData\\Local\\Temp\\ipykernel_19560\\109121929.py:21: RuntimeWarning: (X, Y) fit (0.0, 30.1) more than 20 mm from head frame origin\n",
      "  raw.interpolate_bads()  # 'nearest'\n"
     ]
    },
    {
     "name": "stdout",
     "output_type": "stream",
     "text": [
      "Used Annotations descriptions: ['HANV', 'HAPV', 'LANV', 'LAPV']\n",
      "Processing sub-133...\n",
      "Setting channel interpolation method to {'fnirs': 'nearest'}.\n",
      "Interpolating bad channels.\n",
      "    Automatic origin fit: head of radius 168.7 mm\n"
     ]
    },
    {
     "name": "stderr",
     "output_type": "stream",
     "text": [
      "C:\\Users\\humag\\AppData\\Local\\Temp\\ipykernel_19560\\109121929.py:21: RuntimeWarning: Estimated head radius (16.9 cm) is above the 99th percentile for adult head size.\n",
      "  raw.interpolate_bads()  # 'nearest'\n",
      "C:\\Users\\humag\\AppData\\Local\\Temp\\ipykernel_19560\\109121929.py:21: RuntimeWarning: (X, Y) fit (0.0, 30.1) more than 20 mm from head frame origin\n",
      "  raw.interpolate_bads()  # 'nearest'\n"
     ]
    },
    {
     "name": "stdout",
     "output_type": "stream",
     "text": [
      "Used Annotations descriptions: ['HANV', 'HAPV', 'LANV', 'LAPV']\n",
      "Processing sub-134...\n",
      "Setting channel interpolation method to {'fnirs': 'nearest'}.\n",
      "Interpolating bad channels.\n",
      "    Automatic origin fit: head of radius 168.7 mm\n"
     ]
    },
    {
     "name": "stderr",
     "output_type": "stream",
     "text": [
      "C:\\Users\\humag\\AppData\\Local\\Temp\\ipykernel_19560\\109121929.py:21: RuntimeWarning: Estimated head radius (16.9 cm) is above the 99th percentile for adult head size.\n",
      "  raw.interpolate_bads()  # 'nearest'\n",
      "C:\\Users\\humag\\AppData\\Local\\Temp\\ipykernel_19560\\109121929.py:21: RuntimeWarning: (X, Y) fit (0.0, 30.1) more than 20 mm from head frame origin\n",
      "  raw.interpolate_bads()  # 'nearest'\n"
     ]
    },
    {
     "name": "stdout",
     "output_type": "stream",
     "text": [
      "Used Annotations descriptions: ['HANV', 'HAPV', 'LANV', 'LAPV']\n",
      "Processing sub-139...\n",
      "Setting channel interpolation method to {'fnirs': 'nearest'}.\n",
      "Interpolating bad channels.\n",
      "    Automatic origin fit: head of radius 168.7 mm\n"
     ]
    },
    {
     "name": "stderr",
     "output_type": "stream",
     "text": [
      "C:\\Users\\humag\\AppData\\Local\\Temp\\ipykernel_19560\\109121929.py:21: RuntimeWarning: Estimated head radius (16.9 cm) is above the 99th percentile for adult head size.\n",
      "  raw.interpolate_bads()  # 'nearest'\n",
      "C:\\Users\\humag\\AppData\\Local\\Temp\\ipykernel_19560\\109121929.py:21: RuntimeWarning: (X, Y) fit (0.0, 30.1) more than 20 mm from head frame origin\n",
      "  raw.interpolate_bads()  # 'nearest'\n"
     ]
    },
    {
     "name": "stdout",
     "output_type": "stream",
     "text": [
      "Used Annotations descriptions: ['HANV', 'HAPV', 'LANV', 'LAPV']\n",
      "Processing sub-140...\n",
      "Setting channel interpolation method to {'fnirs': 'nearest'}.\n",
      "Interpolating bad channels.\n",
      "    Automatic origin fit: head of radius 168.7 mm\n"
     ]
    },
    {
     "name": "stderr",
     "output_type": "stream",
     "text": [
      "C:\\Users\\humag\\AppData\\Local\\Temp\\ipykernel_19560\\109121929.py:21: RuntimeWarning: Estimated head radius (16.9 cm) is above the 99th percentile for adult head size.\n",
      "  raw.interpolate_bads()  # 'nearest'\n",
      "C:\\Users\\humag\\AppData\\Local\\Temp\\ipykernel_19560\\109121929.py:21: RuntimeWarning: (X, Y) fit (0.0, 30.1) more than 20 mm from head frame origin\n",
      "  raw.interpolate_bads()  # 'nearest'\n"
     ]
    },
    {
     "name": "stdout",
     "output_type": "stream",
     "text": [
      "Used Annotations descriptions: ['HANV', 'HAPV', 'LANV', 'LAPV']\n",
      "Processing sub-141...\n",
      "Setting channel interpolation method to {'fnirs': 'nearest'}.\n",
      "Interpolating bad channels.\n",
      "    Automatic origin fit: head of radius 168.7 mm\n"
     ]
    },
    {
     "name": "stderr",
     "output_type": "stream",
     "text": [
      "C:\\Users\\humag\\AppData\\Local\\Temp\\ipykernel_19560\\109121929.py:21: RuntimeWarning: Estimated head radius (16.9 cm) is above the 99th percentile for adult head size.\n",
      "  raw.interpolate_bads()  # 'nearest'\n",
      "C:\\Users\\humag\\AppData\\Local\\Temp\\ipykernel_19560\\109121929.py:21: RuntimeWarning: (X, Y) fit (0.0, 30.1) more than 20 mm from head frame origin\n",
      "  raw.interpolate_bads()  # 'nearest'\n"
     ]
    },
    {
     "name": "stdout",
     "output_type": "stream",
     "text": [
      "Used Annotations descriptions: ['HANV', 'HAPV', 'LANV', 'LAPV']\n",
      "Processing sub-142...\n",
      "Setting channel interpolation method to {'fnirs': 'nearest'}.\n",
      "Interpolating bad channels.\n",
      "    Automatic origin fit: head of radius 168.7 mm\n"
     ]
    },
    {
     "name": "stderr",
     "output_type": "stream",
     "text": [
      "C:\\Users\\humag\\AppData\\Local\\Temp\\ipykernel_19560\\109121929.py:21: RuntimeWarning: Estimated head radius (16.9 cm) is above the 99th percentile for adult head size.\n",
      "  raw.interpolate_bads()  # 'nearest'\n",
      "C:\\Users\\humag\\AppData\\Local\\Temp\\ipykernel_19560\\109121929.py:21: RuntimeWarning: (X, Y) fit (0.0, 30.1) more than 20 mm from head frame origin\n",
      "  raw.interpolate_bads()  # 'nearest'\n"
     ]
    },
    {
     "name": "stdout",
     "output_type": "stream",
     "text": [
      "Used Annotations descriptions: ['HANV', 'HAPV', 'LANV', 'LAPV']\n",
      "Processing sub-143...\n",
      "Setting channel interpolation method to {'fnirs': 'nearest'}.\n",
      "Interpolating bad channels.\n",
      "    Automatic origin fit: head of radius 168.7 mm\n"
     ]
    },
    {
     "name": "stderr",
     "output_type": "stream",
     "text": [
      "C:\\Users\\humag\\AppData\\Local\\Temp\\ipykernel_19560\\109121929.py:21: RuntimeWarning: Estimated head radius (16.9 cm) is above the 99th percentile for adult head size.\n",
      "  raw.interpolate_bads()  # 'nearest'\n",
      "C:\\Users\\humag\\AppData\\Local\\Temp\\ipykernel_19560\\109121929.py:21: RuntimeWarning: (X, Y) fit (0.0, 30.1) more than 20 mm from head frame origin\n",
      "  raw.interpolate_bads()  # 'nearest'\n"
     ]
    },
    {
     "name": "stdout",
     "output_type": "stream",
     "text": [
      "Used Annotations descriptions: ['HANV', 'HAPV', 'LANV', 'LAPV']\n",
      "Processing sub-144...\n",
      "Setting channel interpolation method to {'fnirs': 'nearest'}.\n",
      "Interpolating bad channels.\n",
      "    Automatic origin fit: head of radius 168.7 mm\n"
     ]
    },
    {
     "name": "stderr",
     "output_type": "stream",
     "text": [
      "C:\\Users\\humag\\AppData\\Local\\Temp\\ipykernel_19560\\109121929.py:21: RuntimeWarning: Estimated head radius (16.9 cm) is above the 99th percentile for adult head size.\n",
      "  raw.interpolate_bads()  # 'nearest'\n",
      "C:\\Users\\humag\\AppData\\Local\\Temp\\ipykernel_19560\\109121929.py:21: RuntimeWarning: (X, Y) fit (0.0, 30.1) more than 20 mm from head frame origin\n",
      "  raw.interpolate_bads()  # 'nearest'\n"
     ]
    },
    {
     "name": "stdout",
     "output_type": "stream",
     "text": [
      "Used Annotations descriptions: ['HANV', 'HAPV', 'LANV', 'LAPV']\n",
      "Processing sub-145...\n",
      "Setting channel interpolation method to {'fnirs': 'nearest'}.\n",
      "Interpolating bad channels.\n",
      "    Automatic origin fit: head of radius 168.7 mm\n"
     ]
    },
    {
     "name": "stderr",
     "output_type": "stream",
     "text": [
      "C:\\Users\\humag\\AppData\\Local\\Temp\\ipykernel_19560\\109121929.py:21: RuntimeWarning: Estimated head radius (16.9 cm) is above the 99th percentile for adult head size.\n",
      "  raw.interpolate_bads()  # 'nearest'\n",
      "C:\\Users\\humag\\AppData\\Local\\Temp\\ipykernel_19560\\109121929.py:21: RuntimeWarning: (X, Y) fit (0.0, 30.1) more than 20 mm from head frame origin\n",
      "  raw.interpolate_bads()  # 'nearest'\n"
     ]
    },
    {
     "name": "stdout",
     "output_type": "stream",
     "text": [
      "Used Annotations descriptions: ['HANV', 'HAPV', 'LANV', 'LAPV']\n",
      "Processing sub-146...\n",
      "Setting channel interpolation method to {'fnirs': 'nearest'}.\n",
      "Interpolating bad channels.\n",
      "    Automatic origin fit: head of radius 168.7 mm\n"
     ]
    },
    {
     "name": "stderr",
     "output_type": "stream",
     "text": [
      "C:\\Users\\humag\\AppData\\Local\\Temp\\ipykernel_19560\\109121929.py:21: RuntimeWarning: Estimated head radius (16.9 cm) is above the 99th percentile for adult head size.\n",
      "  raw.interpolate_bads()  # 'nearest'\n",
      "C:\\Users\\humag\\AppData\\Local\\Temp\\ipykernel_19560\\109121929.py:21: RuntimeWarning: (X, Y) fit (0.0, 30.1) more than 20 mm from head frame origin\n",
      "  raw.interpolate_bads()  # 'nearest'\n"
     ]
    },
    {
     "name": "stdout",
     "output_type": "stream",
     "text": [
      "Used Annotations descriptions: ['HANV', 'HAPV', 'LANV', 'LAPV']\n",
      "Processing sub-147...\n",
      "Setting channel interpolation method to {'fnirs': 'nearest'}.\n",
      "Interpolating bad channels.\n",
      "    Automatic origin fit: head of radius 168.7 mm\n"
     ]
    },
    {
     "name": "stderr",
     "output_type": "stream",
     "text": [
      "C:\\Users\\humag\\AppData\\Local\\Temp\\ipykernel_19560\\109121929.py:21: RuntimeWarning: Estimated head radius (16.9 cm) is above the 99th percentile for adult head size.\n",
      "  raw.interpolate_bads()  # 'nearest'\n",
      "C:\\Users\\humag\\AppData\\Local\\Temp\\ipykernel_19560\\109121929.py:21: RuntimeWarning: (X, Y) fit (0.0, 30.1) more than 20 mm from head frame origin\n",
      "  raw.interpolate_bads()  # 'nearest'\n"
     ]
    },
    {
     "name": "stdout",
     "output_type": "stream",
     "text": [
      "Used Annotations descriptions: ['HANV', 'HAPV', 'LANV', 'LAPV']\n",
      "Processing sub-148...\n",
      "Setting channel interpolation method to {'fnirs': 'nearest'}.\n",
      "Interpolating bad channels.\n",
      "    Automatic origin fit: head of radius 168.7 mm\n"
     ]
    },
    {
     "name": "stderr",
     "output_type": "stream",
     "text": [
      "C:\\Users\\humag\\AppData\\Local\\Temp\\ipykernel_19560\\109121929.py:21: RuntimeWarning: Estimated head radius (16.9 cm) is above the 99th percentile for adult head size.\n",
      "  raw.interpolate_bads()  # 'nearest'\n",
      "C:\\Users\\humag\\AppData\\Local\\Temp\\ipykernel_19560\\109121929.py:21: RuntimeWarning: (X, Y) fit (0.0, 30.1) more than 20 mm from head frame origin\n",
      "  raw.interpolate_bads()  # 'nearest'\n"
     ]
    },
    {
     "name": "stdout",
     "output_type": "stream",
     "text": [
      "Used Annotations descriptions: ['HANV', 'HAPV', 'LANV', 'LAPV']\n",
      "Processing sub-149...\n",
      "Setting channel interpolation method to {'fnirs': 'nearest'}.\n",
      "Interpolating bad channels.\n",
      "    Automatic origin fit: head of radius 168.7 mm\n"
     ]
    },
    {
     "name": "stderr",
     "output_type": "stream",
     "text": [
      "C:\\Users\\humag\\AppData\\Local\\Temp\\ipykernel_19560\\109121929.py:21: RuntimeWarning: Estimated head radius (16.9 cm) is above the 99th percentile for adult head size.\n",
      "  raw.interpolate_bads()  # 'nearest'\n",
      "C:\\Users\\humag\\AppData\\Local\\Temp\\ipykernel_19560\\109121929.py:21: RuntimeWarning: (X, Y) fit (0.0, 30.1) more than 20 mm from head frame origin\n",
      "  raw.interpolate_bads()  # 'nearest'\n"
     ]
    },
    {
     "name": "stdout",
     "output_type": "stream",
     "text": [
      "Used Annotations descriptions: ['HANV', 'HAPV', 'LANV', 'LAPV']\n",
      "✅ All subjects processed and combined.\n"
     ]
    }
   ],
   "source": [
    "# Path to dataset\n",
    "data_path = Path(\"data/nemo-bids\")\n",
    "task = \"empe\"\n",
    "\n",
    "# List of all subject folders\n",
    "subject_dirs = sorted([p.name for p in (data_path).glob(\"sub-*\")])\n",
    "print(f\"Found {len(subject_dirs)} subjects.\")\n",
    "\n",
    "all_dfs = []\n",
    "\n",
    "for subject in subject_dirs:\n",
    "    try:\n",
    "        print(f\"Processing {subject}...\")\n",
    "\n",
    "        snirf_file = data_path / subject / \"nirs\" / f\"{subject}_task-{task}_nirs.snirf\"\n",
    "        raw = mne.io.read_raw_snirf(snirf_file, preload=True, verbose=False)\n",
    "\n",
    "        # 1. SCI-based bad channel detection\n",
    "        sci = scalp_coupling_index(raw)\n",
    "        raw.info[\"bads\"] = list(compress(raw.ch_names, sci < 0.8))\n",
    "        raw.interpolate_bads()  # default 'nearest'\n",
    "\n",
    "        # 2. Motion correction\n",
    "        raw_od = raw  # already OD\n",
    "        raw_od = tddr(raw_od)\n",
    "\n",
    "        # 3. Convert to HbO/HbR\n",
    "        raw_hb = beer_lambert_law(raw_od, ppf=6.0)\n",
    "\n",
    "        # 4. Band-pass filtering\n",
    "        raw_hb = raw_hb.filter(l_freq=0.01, h_freq=0.1,\n",
    "                               l_trans_bandwidth=0.004,\n",
    "                               h_trans_bandwidth=0.01,\n",
    "                               verbose=False)\n",
    "\n",
    "        # 5. Extract events and build metadata\n",
    "        events, event_dict = mne.events_from_annotations(raw_hb)\n",
    "        event_ids = [e[-1] for e in events]\n",
    "        labels = [k for id_ in event_ids for k, v in event_dict.items() if v == id_]\n",
    "        metadata = pd.DataFrame({'condition': labels, 'subject': [subject] * len(labels)})\n",
    "\n",
    "        # 6. Epoching\n",
    "        epochs = mne.Epochs(raw_hb, events, event_id=event_dict,\n",
    "                            metadata=metadata,\n",
    "                            tmin=-5.0, tmax=12.0,\n",
    "                            baseline=(None, 0),\n",
    "                            preload=True,\n",
    "                            reject=dict(hbo=80e-6),\n",
    "                            verbose=False)\n",
    "\n",
    "        # 7. Pick only HbO channels\n",
    "        hbo_epochs = epochs.copy().pick(picks=\"hbo\")\n",
    "\n",
    "        # 8. Cut to 0–12s post-stimulus (drop pre-stim)\n",
    "        X = hbo_epochs.get_data()[:, :, 250:-1]  # (trials, channels, 600 samples)\n",
    "\n",
    "        ch_names = hbo_epochs.ch_names\n",
    "        n_trials, n_channels, n_times = X.shape\n",
    "        X_flat = X.reshape(n_trials, n_channels * n_times)\n",
    "\n",
    "        # Build column names like: 'S5_D3 hbo_t1', ..., 'S10_D8 hbo_t600'\n",
    "        columns = [f'{ch}_t{t+1}' for ch in ch_names for t in range(n_times)]\n",
    "        df = pd.DataFrame(X_flat, columns=columns)\n",
    "\n",
    "        # Add label (1-4)\n",
    "        # event_dict: {'HANV': 1, 'HAPV': 2, 'LANV': 3, 'LAPV': 4}\n",
    "        df['label'] = hbo_epochs.metadata['condition'].map(event_dict) \n",
    "\n",
    "        # Add subject ID\n",
    "        df['subject'] = subject\n",
    "\n",
    "        all_dfs.append(df)\n",
    "\n",
    "    except Exception as e:\n",
    "        print(f\"Error processing {subject}: {e}\")\n",
    "\n",
    "# Combine all subjects into one big DataFrame\n",
    "df_all_subjects = pd.concat(all_dfs, ignore_index=True)\n",
    "print(\" All subjects processed and combined.\")\n"
   ]
  },
  {
   "cell_type": "code",
   "execution_count": 91,
   "id": "0d73f3b1-a8ee-4acf-97a4-c207f3584fd0",
   "metadata": {},
   "outputs": [
    {
     "data": {
      "text/html": [
       "<div>\n",
       "<style scoped>\n",
       "    .dataframe tbody tr th:only-of-type {\n",
       "        vertical-align: middle;\n",
       "    }\n",
       "\n",
       "    .dataframe tbody tr th {\n",
       "        vertical-align: top;\n",
       "    }\n",
       "\n",
       "    .dataframe thead th {\n",
       "        text-align: right;\n",
       "    }\n",
       "</style>\n",
       "<table border=\"1\" class=\"dataframe\">\n",
       "  <thead>\n",
       "    <tr style=\"text-align: right;\">\n",
       "      <th></th>\n",
       "      <th>S1_D1 hbo_t1</th>\n",
       "      <th>S1_D1 hbo_t2</th>\n",
       "      <th>S1_D1 hbo_t3</th>\n",
       "      <th>S1_D1 hbo_t4</th>\n",
       "      <th>S1_D1 hbo_t5</th>\n",
       "      <th>S1_D1 hbo_t6</th>\n",
       "      <th>S1_D1 hbo_t7</th>\n",
       "      <th>S1_D1 hbo_t8</th>\n",
       "      <th>S1_D1 hbo_t9</th>\n",
       "      <th>S1_D1 hbo_t10</th>\n",
       "      <th>...</th>\n",
       "      <th>S10_D8 hbo_t593</th>\n",
       "      <th>S10_D8 hbo_t594</th>\n",
       "      <th>S10_D8 hbo_t595</th>\n",
       "      <th>S10_D8 hbo_t596</th>\n",
       "      <th>S10_D8 hbo_t597</th>\n",
       "      <th>S10_D8 hbo_t598</th>\n",
       "      <th>S10_D8 hbo_t599</th>\n",
       "      <th>S10_D8 hbo_t600</th>\n",
       "      <th>label</th>\n",
       "      <th>subject</th>\n",
       "    </tr>\n",
       "  </thead>\n",
       "  <tbody>\n",
       "    <tr>\n",
       "      <th>1198</th>\n",
       "      <td>-4.053866e-08</td>\n",
       "      <td>-4.124364e-08</td>\n",
       "      <td>-4.194980e-08</td>\n",
       "      <td>-4.265702e-08</td>\n",
       "      <td>-4.336523e-08</td>\n",
       "      <td>-4.407438e-08</td>\n",
       "      <td>-4.478438e-08</td>\n",
       "      <td>-4.549517e-08</td>\n",
       "      <td>-4.620669e-08</td>\n",
       "      <td>-4.691891e-08</td>\n",
       "      <td>...</td>\n",
       "      <td>-2.661735e-08</td>\n",
       "      <td>-2.679198e-08</td>\n",
       "      <td>-2.696465e-08</td>\n",
       "      <td>-2.713535e-08</td>\n",
       "      <td>-2.730408e-08</td>\n",
       "      <td>-2.747078e-08</td>\n",
       "      <td>-2.763546e-08</td>\n",
       "      <td>-2.779808e-08</td>\n",
       "      <td>3</td>\n",
       "      <td>sub-149</td>\n",
       "    </tr>\n",
       "    <tr>\n",
       "      <th>1199</th>\n",
       "      <td>-2.608959e-08</td>\n",
       "      <td>-2.623023e-08</td>\n",
       "      <td>-2.636795e-08</td>\n",
       "      <td>-2.650277e-08</td>\n",
       "      <td>-2.663465e-08</td>\n",
       "      <td>-2.676362e-08</td>\n",
       "      <td>-2.688966e-08</td>\n",
       "      <td>-2.701273e-08</td>\n",
       "      <td>-2.713282e-08</td>\n",
       "      <td>-2.724996e-08</td>\n",
       "      <td>...</td>\n",
       "      <td>-4.736868e-08</td>\n",
       "      <td>-4.752574e-08</td>\n",
       "      <td>-4.768331e-08</td>\n",
       "      <td>-4.784143e-08</td>\n",
       "      <td>-4.800008e-08</td>\n",
       "      <td>-4.815923e-08</td>\n",
       "      <td>-4.831891e-08</td>\n",
       "      <td>-4.847910e-08</td>\n",
       "      <td>2</td>\n",
       "      <td>sub-149</td>\n",
       "    </tr>\n",
       "    <tr>\n",
       "      <th>1200</th>\n",
       "      <td>-4.286421e-08</td>\n",
       "      <td>-4.302318e-08</td>\n",
       "      <td>-4.318004e-08</td>\n",
       "      <td>-4.333484e-08</td>\n",
       "      <td>-4.348760e-08</td>\n",
       "      <td>-4.363829e-08</td>\n",
       "      <td>-4.378692e-08</td>\n",
       "      <td>-4.393350e-08</td>\n",
       "      <td>-4.407805e-08</td>\n",
       "      <td>-4.422057e-08</td>\n",
       "      <td>...</td>\n",
       "      <td>-2.589318e-08</td>\n",
       "      <td>-2.565082e-08</td>\n",
       "      <td>-2.540970e-08</td>\n",
       "      <td>-2.516989e-08</td>\n",
       "      <td>-2.493146e-08</td>\n",
       "      <td>-2.469448e-08</td>\n",
       "      <td>-2.445903e-08</td>\n",
       "      <td>-2.422514e-08</td>\n",
       "      <td>4</td>\n",
       "      <td>sub-149</td>\n",
       "    </tr>\n",
       "    <tr>\n",
       "      <th>1201</th>\n",
       "      <td>-1.328963e-08</td>\n",
       "      <td>-1.332561e-08</td>\n",
       "      <td>-1.336543e-08</td>\n",
       "      <td>-1.340915e-08</td>\n",
       "      <td>-1.345685e-08</td>\n",
       "      <td>-1.350859e-08</td>\n",
       "      <td>-1.356442e-08</td>\n",
       "      <td>-1.362443e-08</td>\n",
       "      <td>-1.368866e-08</td>\n",
       "      <td>-1.375718e-08</td>\n",
       "      <td>...</td>\n",
       "      <td>2.333366e-07</td>\n",
       "      <td>2.338698e-07</td>\n",
       "      <td>2.344028e-07</td>\n",
       "      <td>2.349356e-07</td>\n",
       "      <td>2.354682e-07</td>\n",
       "      <td>2.360004e-07</td>\n",
       "      <td>2.365321e-07</td>\n",
       "      <td>2.370634e-07</td>\n",
       "      <td>1</td>\n",
       "      <td>sub-149</td>\n",
       "    </tr>\n",
       "    <tr>\n",
       "      <th>1202</th>\n",
       "      <td>1.443433e-08</td>\n",
       "      <td>1.439158e-08</td>\n",
       "      <td>1.434570e-08</td>\n",
       "      <td>1.429662e-08</td>\n",
       "      <td>1.424432e-08</td>\n",
       "      <td>1.418878e-08</td>\n",
       "      <td>1.412995e-08</td>\n",
       "      <td>1.406786e-08</td>\n",
       "      <td>1.400247e-08</td>\n",
       "      <td>1.393378e-08</td>\n",
       "      <td>...</td>\n",
       "      <td>1.109637e-07</td>\n",
       "      <td>1.109368e-07</td>\n",
       "      <td>1.109052e-07</td>\n",
       "      <td>1.108689e-07</td>\n",
       "      <td>1.108278e-07</td>\n",
       "      <td>1.107820e-07</td>\n",
       "      <td>1.107314e-07</td>\n",
       "      <td>1.106759e-07</td>\n",
       "      <td>3</td>\n",
       "      <td>sub-149</td>\n",
       "    </tr>\n",
       "  </tbody>\n",
       "</table>\n",
       "<p>5 rows × 14402 columns</p>\n",
       "</div>"
      ],
      "text/plain": [
       "      S1_D1 hbo_t1  S1_D1 hbo_t2  S1_D1 hbo_t3  S1_D1 hbo_t4  S1_D1 hbo_t5  \\\n",
       "1198 -4.053866e-08 -4.124364e-08 -4.194980e-08 -4.265702e-08 -4.336523e-08   \n",
       "1199 -2.608959e-08 -2.623023e-08 -2.636795e-08 -2.650277e-08 -2.663465e-08   \n",
       "1200 -4.286421e-08 -4.302318e-08 -4.318004e-08 -4.333484e-08 -4.348760e-08   \n",
       "1201 -1.328963e-08 -1.332561e-08 -1.336543e-08 -1.340915e-08 -1.345685e-08   \n",
       "1202  1.443433e-08  1.439158e-08  1.434570e-08  1.429662e-08  1.424432e-08   \n",
       "\n",
       "      S1_D1 hbo_t6  S1_D1 hbo_t7  S1_D1 hbo_t8  S1_D1 hbo_t9  S1_D1 hbo_t10  \\\n",
       "1198 -4.407438e-08 -4.478438e-08 -4.549517e-08 -4.620669e-08  -4.691891e-08   \n",
       "1199 -2.676362e-08 -2.688966e-08 -2.701273e-08 -2.713282e-08  -2.724996e-08   \n",
       "1200 -4.363829e-08 -4.378692e-08 -4.393350e-08 -4.407805e-08  -4.422057e-08   \n",
       "1201 -1.350859e-08 -1.356442e-08 -1.362443e-08 -1.368866e-08  -1.375718e-08   \n",
       "1202  1.418878e-08  1.412995e-08  1.406786e-08  1.400247e-08   1.393378e-08   \n",
       "\n",
       "      ...  S10_D8 hbo_t593  S10_D8 hbo_t594  S10_D8 hbo_t595  S10_D8 hbo_t596  \\\n",
       "1198  ...    -2.661735e-08    -2.679198e-08    -2.696465e-08    -2.713535e-08   \n",
       "1199  ...    -4.736868e-08    -4.752574e-08    -4.768331e-08    -4.784143e-08   \n",
       "1200  ...    -2.589318e-08    -2.565082e-08    -2.540970e-08    -2.516989e-08   \n",
       "1201  ...     2.333366e-07     2.338698e-07     2.344028e-07     2.349356e-07   \n",
       "1202  ...     1.109637e-07     1.109368e-07     1.109052e-07     1.108689e-07   \n",
       "\n",
       "      S10_D8 hbo_t597  S10_D8 hbo_t598  S10_D8 hbo_t599  S10_D8 hbo_t600  \\\n",
       "1198    -2.730408e-08    -2.747078e-08    -2.763546e-08    -2.779808e-08   \n",
       "1199    -4.800008e-08    -4.815923e-08    -4.831891e-08    -4.847910e-08   \n",
       "1200    -2.493146e-08    -2.469448e-08    -2.445903e-08    -2.422514e-08   \n",
       "1201     2.354682e-07     2.360004e-07     2.365321e-07     2.370634e-07   \n",
       "1202     1.108278e-07     1.107820e-07     1.107314e-07     1.106759e-07   \n",
       "\n",
       "      label  subject  \n",
       "1198      3  sub-149  \n",
       "1199      2  sub-149  \n",
       "1200      4  sub-149  \n",
       "1201      1  sub-149  \n",
       "1202      3  sub-149  \n",
       "\n",
       "[5 rows x 14402 columns]"
      ]
     },
     "execution_count": 91,
     "metadata": {},
     "output_type": "execute_result"
    }
   ],
   "source": [
    "df_all_subjects.tail()"
   ]
  },
  {
   "cell_type": "code",
   "execution_count": 92,
   "id": "f977b0da-24f0-407b-961b-8bd5eeee3be1",
   "metadata": {},
   "outputs": [
    {
     "data": {
      "text/plain": [
       "label\n",
       "3    301\n",
       "4    301\n",
       "2    301\n",
       "1    300\n",
       "Name: count, dtype: int64"
      ]
     },
     "execution_count": 92,
     "metadata": {},
     "output_type": "execute_result"
    }
   ],
   "source": [
    "df_all_subjects['label'].value_counts()"
   ]
  },
  {
   "cell_type": "markdown",
   "id": "4aff519b-cb5b-4e4b-a492-adac82b78126",
   "metadata": {},
   "source": [
    "## windowing"
   ]
  },
  {
   "cell_type": "code",
   "execution_count": 93,
   "id": "693cd00c-c0a2-4730-8352-8630d805c381",
   "metadata": {},
   "outputs": [
    {
     "data": {
      "text/html": [
       "<div>\n",
       "<style scoped>\n",
       "    .dataframe tbody tr th:only-of-type {\n",
       "        vertical-align: middle;\n",
       "    }\n",
       "\n",
       "    .dataframe tbody tr th {\n",
       "        vertical-align: top;\n",
       "    }\n",
       "\n",
       "    .dataframe thead th {\n",
       "        text-align: right;\n",
       "    }\n",
       "</style>\n",
       "<table border=\"1\" class=\"dataframe\">\n",
       "  <thead>\n",
       "    <tr style=\"text-align: right;\">\n",
       "      <th></th>\n",
       "      <th>subject</th>\n",
       "      <th>label</th>\n",
       "      <th>S1_D1_w1</th>\n",
       "      <th>S1_D1_w2</th>\n",
       "      <th>S1_D1_w3</th>\n",
       "      <th>S1_D2_w1</th>\n",
       "      <th>S1_D2_w2</th>\n",
       "      <th>S1_D2_w3</th>\n",
       "      <th>S2_D1_w1</th>\n",
       "      <th>S2_D1_w2</th>\n",
       "      <th>...</th>\n",
       "      <th>S9_D6_w3</th>\n",
       "      <th>S9_D8_w1</th>\n",
       "      <th>S9_D8_w2</th>\n",
       "      <th>S9_D8_w3</th>\n",
       "      <th>S10_D7_w1</th>\n",
       "      <th>S10_D7_w2</th>\n",
       "      <th>S10_D7_w3</th>\n",
       "      <th>S10_D8_w1</th>\n",
       "      <th>S10_D8_w2</th>\n",
       "      <th>S10_D8_w3</th>\n",
       "    </tr>\n",
       "  </thead>\n",
       "  <tbody>\n",
       "    <tr>\n",
       "      <th>0</th>\n",
       "      <td>sub-101</td>\n",
       "      <td>3</td>\n",
       "      <td>-7.120779e-08</td>\n",
       "      <td>-1.591482e-08</td>\n",
       "      <td>4.037125e-08</td>\n",
       "      <td>1.059506e-07</td>\n",
       "      <td>-1.591482e-08</td>\n",
       "      <td>5.576864e-09</td>\n",
       "      <td>-5.745610e-08</td>\n",
       "      <td>1.158969e-09</td>\n",
       "      <td>...</td>\n",
       "      <td>-6.338075e-08</td>\n",
       "      <td>4.680183e-08</td>\n",
       "      <td>-6.375286e-08</td>\n",
       "      <td>1.427296e-08</td>\n",
       "      <td>4.680183e-08</td>\n",
       "      <td>-7.726111e-09</td>\n",
       "      <td>1.427296e-08</td>\n",
       "      <td>-7.726111e-09</td>\n",
       "      <td>1.427296e-08</td>\n",
       "      <td>-7.726111e-09</td>\n",
       "    </tr>\n",
       "    <tr>\n",
       "      <th>1</th>\n",
       "      <td>sub-101</td>\n",
       "      <td>1</td>\n",
       "      <td>-7.105098e-08</td>\n",
       "      <td>-1.428847e-07</td>\n",
       "      <td>-1.661490e-07</td>\n",
       "      <td>-1.067971e-07</td>\n",
       "      <td>-1.428847e-07</td>\n",
       "      <td>-1.549473e-07</td>\n",
       "      <td>-1.100738e-07</td>\n",
       "      <td>-9.783376e-08</td>\n",
       "      <td>...</td>\n",
       "      <td>-9.825674e-08</td>\n",
       "      <td>-1.156452e-07</td>\n",
       "      <td>-1.293089e-07</td>\n",
       "      <td>-1.468958e-07</td>\n",
       "      <td>-1.156452e-07</td>\n",
       "      <td>-1.101812e-07</td>\n",
       "      <td>-1.468958e-07</td>\n",
       "      <td>-1.101812e-07</td>\n",
       "      <td>-1.468958e-07</td>\n",
       "      <td>-1.101812e-07</td>\n",
       "    </tr>\n",
       "    <tr>\n",
       "      <th>2</th>\n",
       "      <td>sub-101</td>\n",
       "      <td>4</td>\n",
       "      <td>6.854295e-08</td>\n",
       "      <td>1.563502e-07</td>\n",
       "      <td>1.207582e-07</td>\n",
       "      <td>1.066198e-07</td>\n",
       "      <td>1.563502e-07</td>\n",
       "      <td>1.385606e-07</td>\n",
       "      <td>1.212980e-07</td>\n",
       "      <td>4.591666e-08</td>\n",
       "      <td>...</td>\n",
       "      <td>4.139978e-08</td>\n",
       "      <td>2.738268e-08</td>\n",
       "      <td>7.855582e-08</td>\n",
       "      <td>1.718898e-08</td>\n",
       "      <td>2.738268e-08</td>\n",
       "      <td>4.968935e-09</td>\n",
       "      <td>1.718898e-08</td>\n",
       "      <td>4.968935e-09</td>\n",
       "      <td>1.718898e-08</td>\n",
       "      <td>4.968935e-09</td>\n",
       "    </tr>\n",
       "    <tr>\n",
       "      <th>3</th>\n",
       "      <td>sub-101</td>\n",
       "      <td>2</td>\n",
       "      <td>1.206235e-07</td>\n",
       "      <td>1.431428e-07</td>\n",
       "      <td>2.246828e-08</td>\n",
       "      <td>2.433219e-08</td>\n",
       "      <td>1.431428e-07</td>\n",
       "      <td>1.236011e-07</td>\n",
       "      <td>1.035702e-07</td>\n",
       "      <td>1.868319e-09</td>\n",
       "      <td>...</td>\n",
       "      <td>-1.115965e-07</td>\n",
       "      <td>-2.759947e-08</td>\n",
       "      <td>-1.808735e-07</td>\n",
       "      <td>5.235214e-08</td>\n",
       "      <td>-2.759947e-08</td>\n",
       "      <td>1.151776e-08</td>\n",
       "      <td>5.235214e-08</td>\n",
       "      <td>1.151776e-08</td>\n",
       "      <td>5.235214e-08</td>\n",
       "      <td>1.151776e-08</td>\n",
       "    </tr>\n",
       "    <tr>\n",
       "      <th>4</th>\n",
       "      <td>sub-101</td>\n",
       "      <td>3</td>\n",
       "      <td>-1.319688e-07</td>\n",
       "      <td>-1.376738e-07</td>\n",
       "      <td>-2.001670e-07</td>\n",
       "      <td>-1.707070e-07</td>\n",
       "      <td>-1.376738e-07</td>\n",
       "      <td>-6.784068e-08</td>\n",
       "      <td>-1.378276e-07</td>\n",
       "      <td>-6.926143e-08</td>\n",
       "      <td>...</td>\n",
       "      <td>-1.588279e-07</td>\n",
       "      <td>-1.109203e-07</td>\n",
       "      <td>-2.869832e-07</td>\n",
       "      <td>-1.373283e-07</td>\n",
       "      <td>-1.109203e-07</td>\n",
       "      <td>-1.356308e-07</td>\n",
       "      <td>-1.373283e-07</td>\n",
       "      <td>-1.356308e-07</td>\n",
       "      <td>-1.373283e-07</td>\n",
       "      <td>-1.356308e-07</td>\n",
       "    </tr>\n",
       "  </tbody>\n",
       "</table>\n",
       "<p>5 rows × 74 columns</p>\n",
       "</div>"
      ],
      "text/plain": [
       "   subject  label      S1_D1_w1      S1_D1_w2      S1_D1_w3      S1_D2_w1  \\\n",
       "0  sub-101      3 -7.120779e-08 -1.591482e-08  4.037125e-08  1.059506e-07   \n",
       "1  sub-101      1 -7.105098e-08 -1.428847e-07 -1.661490e-07 -1.067971e-07   \n",
       "2  sub-101      4  6.854295e-08  1.563502e-07  1.207582e-07  1.066198e-07   \n",
       "3  sub-101      2  1.206235e-07  1.431428e-07  2.246828e-08  2.433219e-08   \n",
       "4  sub-101      3 -1.319688e-07 -1.376738e-07 -2.001670e-07 -1.707070e-07   \n",
       "\n",
       "       S1_D2_w2      S1_D2_w3      S2_D1_w1      S2_D1_w2  ...      S9_D6_w3  \\\n",
       "0 -1.591482e-08  5.576864e-09 -5.745610e-08  1.158969e-09  ... -6.338075e-08   \n",
       "1 -1.428847e-07 -1.549473e-07 -1.100738e-07 -9.783376e-08  ... -9.825674e-08   \n",
       "2  1.563502e-07  1.385606e-07  1.212980e-07  4.591666e-08  ...  4.139978e-08   \n",
       "3  1.431428e-07  1.236011e-07  1.035702e-07  1.868319e-09  ... -1.115965e-07   \n",
       "4 -1.376738e-07 -6.784068e-08 -1.378276e-07 -6.926143e-08  ... -1.588279e-07   \n",
       "\n",
       "       S9_D8_w1      S9_D8_w2      S9_D8_w3     S10_D7_w1     S10_D7_w2  \\\n",
       "0  4.680183e-08 -6.375286e-08  1.427296e-08  4.680183e-08 -7.726111e-09   \n",
       "1 -1.156452e-07 -1.293089e-07 -1.468958e-07 -1.156452e-07 -1.101812e-07   \n",
       "2  2.738268e-08  7.855582e-08  1.718898e-08  2.738268e-08  4.968935e-09   \n",
       "3 -2.759947e-08 -1.808735e-07  5.235214e-08 -2.759947e-08  1.151776e-08   \n",
       "4 -1.109203e-07 -2.869832e-07 -1.373283e-07 -1.109203e-07 -1.356308e-07   \n",
       "\n",
       "      S10_D7_w3     S10_D8_w1     S10_D8_w2     S10_D8_w3  \n",
       "0  1.427296e-08 -7.726111e-09  1.427296e-08 -7.726111e-09  \n",
       "1 -1.468958e-07 -1.101812e-07 -1.468958e-07 -1.101812e-07  \n",
       "2  1.718898e-08  4.968935e-09  1.718898e-08  4.968935e-09  \n",
       "3  5.235214e-08  1.151776e-08  5.235214e-08  1.151776e-08  \n",
       "4 -1.373283e-07 -1.356308e-07 -1.373283e-07 -1.356308e-07  \n",
       "\n",
       "[5 rows x 74 columns]"
      ]
     },
     "execution_count": 93,
     "metadata": {},
     "output_type": "execute_result"
    }
   ],
   "source": [
    "# Identify HBO time-series columns (exclude subject and label)\n",
    "signal_cols = df_all_subjects.columns.difference(['subject', 'label']).tolist()\n",
    "\n",
    "#################### Order channels correctly ############################\n",
    "# Extract unique channel names (e.g., S1_D1) from time-series columns\n",
    "def sort_key(ch):\n",
    "    nums = re.findall(r'\\d+', ch)  # extract numbers like ['1', '1']\n",
    "    return list(map(int, nums))    # turn into [1, 1]\n",
    "\n",
    "channel_names = sorted(\n",
    "    {re.match(r'(.*) hbo_t\\d+', col).group(1) for col in signal_cols},\n",
    "    key=sort_key\n",
    ")\n",
    "\n",
    "# Sanity check: 24 channels expected\n",
    "assert len(channel_names) == 24, f\"Expected 24 channels, got {len(channel_names)}\"\n",
    "\n",
    "# Sort time steps per channel to maintain consistent order\n",
    "channel_to_times = {\n",
    "    ch: sorted([col for col in signal_cols if col.startswith(ch)]) for ch in channel_names\n",
    "}\n",
    "\n",
    "############################### Windowing ##################################\n",
    "\n",
    "# Feature extraction\n",
    "features = []\n",
    "for _, row in df_all_subjects.iterrows():\n",
    "    trial_data = np.array([\n",
    "        row[channel_to_times[ch]].values for ch in channel_names\n",
    "    ])  # Shape: (24, 600)\n",
    "    \n",
    "    # Split into 3 windows\n",
    "    means = []\n",
    "    for w in range(3):\n",
    "        window = trial_data[:, w*200:(w+1)*200]  # 200 samples per window\n",
    "        window_mean = window.mean(axis=1)        # shape: (24,)\n",
    "        means.append(window_mean)\n",
    "    \n",
    "    # Concatenate into (72,) vector\n",
    "    trial_features = np.concatenate(means)\n",
    "    features.append(trial_features)\n",
    "\n",
    "# Create proper column names like S1_D1_w1, S1_D1_w2, S1_D1_w3 ...\n",
    "feature_names = [f\"{ch}_w{w+1}\" for ch in channel_names for w in range(3)]\n",
    "\n",
    "# Final DataFrame\n",
    "df = pd.DataFrame(features, columns=feature_names) # hbo channels (72 columns)\n",
    "df['label'] = df_all_subjects['label'].values # add label\n",
    "df['subject'] = df_all_subjects['subject'].values # add subject \n",
    "\n",
    "# bring subject and label to front\n",
    "cols = ['subject', 'label'] + feature_names\n",
    "df = df[cols]\n",
    "\n",
    "df.head()"
   ]
  },
  {
   "cell_type": "code",
   "execution_count": 94,
   "id": "b7a5afa3-203d-40a6-958c-136bda520c23",
   "metadata": {},
   "outputs": [
    {
     "data": {
      "text/plain": [
       "Index(['subject', 'label', 'S1_D1_w1', 'S1_D1_w2', 'S1_D1_w3', 'S1_D2_w1',\n",
       "       'S1_D2_w2', 'S1_D2_w3', 'S2_D1_w1', 'S2_D1_w2', 'S2_D1_w3', 'S2_D3_w1',\n",
       "       'S2_D3_w2', 'S2_D3_w3', 'S3_D1_w1', 'S3_D1_w2', 'S3_D1_w3', 'S3_D2_w1',\n",
       "       'S3_D2_w2', 'S3_D2_w3', 'S3_D3_w1', 'S3_D3_w2', 'S3_D3_w3', 'S3_D4_w1',\n",
       "       'S3_D4_w2', 'S3_D4_w3', 'S4_D2_w1', 'S4_D2_w2', 'S4_D2_w3', 'S4_D4_w1',\n",
       "       'S4_D4_w2', 'S4_D4_w3', 'S5_D3_w1', 'S5_D3_w2', 'S5_D3_w3', 'S5_D4_w1',\n",
       "       'S5_D4_w2', 'S5_D4_w3', 'S6_D5_w1', 'S6_D5_w2', 'S6_D5_w3', 'S6_D6_w1',\n",
       "       'S6_D6_w2', 'S6_D6_w3', 'S7_D5_w1', 'S7_D5_w2', 'S7_D5_w3', 'S7_D7_w1',\n",
       "       'S7_D7_w2', 'S7_D7_w3', 'S8_D5_w1', 'S8_D5_w2', 'S8_D5_w3', 'S8_D6_w1',\n",
       "       'S8_D6_w2', 'S8_D6_w3', 'S8_D7_w1', 'S8_D7_w2', 'S8_D7_w3', 'S8_D8_w1',\n",
       "       'S8_D8_w2', 'S8_D8_w3', 'S9_D6_w1', 'S9_D6_w2', 'S9_D6_w3', 'S9_D8_w1',\n",
       "       'S9_D8_w2', 'S9_D8_w3', 'S10_D7_w1', 'S10_D7_w2', 'S10_D7_w3',\n",
       "       'S10_D8_w1', 'S10_D8_w2', 'S10_D8_w3'],\n",
       "      dtype='object')"
      ]
     },
     "execution_count": 94,
     "metadata": {},
     "output_type": "execute_result"
    }
   ],
   "source": [
    "df.columns.unique() # 72 + 2 cols"
   ]
  },
  {
   "cell_type": "code",
   "execution_count": 95,
   "id": "f14d9bf4-c54d-409b-bd32-226fe6bba739",
   "metadata": {},
   "outputs": [
    {
     "data": {
      "text/plain": [
       "label\n",
       "3    301\n",
       "4    301\n",
       "2    301\n",
       "1    300\n",
       "Name: count, dtype: int64"
      ]
     },
     "execution_count": 95,
     "metadata": {},
     "output_type": "execute_result"
    }
   ],
   "source": [
    "df['label'].value_counts()"
   ]
  },
  {
   "cell_type": "code",
   "execution_count": 99,
   "id": "53ef8c53-392c-40f0-bd48-57af377adf01",
   "metadata": {},
   "outputs": [
    {
     "name": "stdout",
     "output_type": "stream",
     "text": [
      "Shape: (1203, 74)\n",
      "Unique labels: [3 1 4 2]\n",
      "Subjects: 31 total trials: 1203\n"
     ]
    }
   ],
   "source": [
    "print(\"Shape:\", df.shape)\n",
    "print(\"Unique labels:\", df['label'].unique())\n",
    "print(\"Subjects:\", df['subject'].nunique(), \"total trials:\", df.shape[0])"
   ]
  },
  {
   "cell_type": "markdown",
   "id": "f4d8bf28-90f6-4b58-adf0-0eba3dcb5322",
   "metadata": {},
   "source": [
    "## save to csv's"
   ]
  },
  {
   "cell_type": "code",
   "execution_count": 98,
   "id": "5add6d71-1ebf-4be3-9732-bc0f0edc98ee",
   "metadata": {},
   "outputs": [],
   "source": [
    "df.to_csv(\"all_subs_windowed.csv\", index=False)\n",
    "df_all_subjects.to_csv(\"all_subs_600timepoints.csv\", index=False)"
   ]
  }
 ],
 "metadata": {
  "kernelspec": {
   "display_name": "Python 3 (ipykernel)",
   "language": "python",
   "name": "python3"
  },
  "language_info": {
   "codemirror_mode": {
    "name": "ipython",
    "version": 3
   },
   "file_extension": ".py",
   "mimetype": "text/x-python",
   "name": "python",
   "nbconvert_exporter": "python",
   "pygments_lexer": "ipython3",
   "version": "3.11.1"
  }
 },
 "nbformat": 4,
 "nbformat_minor": 5
}
